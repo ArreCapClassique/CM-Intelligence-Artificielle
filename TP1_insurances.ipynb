{
 "cells": [
  {
   "cell_type": "markdown",
   "id": "474025d8",
   "metadata": {},
   "source": [
    "# TP : Prédiction des frais d'assurance santé avec la régression et les KNN\n",
    "\n",
    "## Objectif\n",
    "Dans ce TP, vous allez explorer un jeu de données contenant des informations sur des personnes et leurs frais d'assurance. L'objectif est de prédire ces frais en utilisant des modèles de régression : régression linéaire et k plus proches voisins (KNN). Vous allez également analyser l'impact du nombre de voisins sur la performance du modèle KNN.\n",
    "\n",
    "# 1. Importation des bibliothèques\n",
    "Importer les bibliothèques nécessaires pour manipuler les données, les visualiser et construire les modèles de machine learning."
   ]
  },
  {
   "cell_type": "code",
   "execution_count": 2,
   "id": "0b81a009",
   "metadata": {},
   "outputs": [],
   "source": [
    "import pandas as pd\n",
    "import numpy as np\n",
    "from collections import Counter"
   ]
  },
  {
   "cell_type": "markdown",
   "id": "6753baa8",
   "metadata": {},
   "source": [
    "# 2. Chargement des données\n",
    "Charger les données depuis le fichier insurance.csv disponible sur moodle."
   ]
  },
  {
   "cell_type": "code",
   "execution_count": 3,
   "id": "60511980",
   "metadata": {},
   "outputs": [],
   "source": [
    "file = pd.read_csv(r\"insurance.csv\")"
   ]
  },
  {
   "cell_type": "markdown",
   "id": "26b7c697",
   "metadata": {},
   "source": [
    "# 3. Exploration des données\n",
    "Analyser les premières lignes du dataset et quelques statistiques générales."
   ]
  },
  {
   "cell_type": "markdown",
   "id": "5a384093",
   "metadata": {},
   "source": [
    "## Afficher les premières lignes du dataset"
   ]
  },
  {
   "cell_type": "code",
   "execution_count": 4,
   "id": "acd1f416",
   "metadata": {},
   "outputs": [
    {
     "name": "stdout",
     "output_type": "stream",
     "text": [
      "   age     sex     bmi  children smoker     region      charges\n",
      "0   19  female  27.900         0    yes  southwest  16884.92400\n",
      "1   18    male  33.770         1     no  southeast   1725.55230\n",
      "2   28    male  33.000         3     no  southeast   4449.46200\n",
      "3   33    male  22.705         0     no  northwest  21984.47061\n",
      "4   32    male  28.880         0     no  northwest   3866.85520\n"
     ]
    }
   ],
   "source": [
    "print(file.head())"
   ]
  },
  {
   "cell_type": "markdown",
   "id": "c79e6e61",
   "metadata": {},
   "source": [
    "## Afficher des statistiques générales sur les variables numériques"
   ]
  },
  {
   "cell_type": "code",
   "execution_count": 5,
   "id": "9c0c1e2e",
   "metadata": {},
   "outputs": [
    {
     "name": "stdout",
     "output_type": "stream",
     "text": [
      "               age          bmi     children       charges\n",
      "count  1338.000000  1338.000000  1338.000000   1338.000000\n",
      "mean     39.207025    30.663397     1.094918  13270.422265\n",
      "std      14.049960     6.098187     1.205493  12110.011237\n",
      "min      18.000000    15.960000     0.000000   1121.873900\n",
      "25%      27.000000    26.296250     0.000000   4740.287150\n",
      "50%      39.000000    30.400000     1.000000   9382.033000\n",
      "75%      51.000000    34.693750     2.000000  16639.912515\n",
      "max      64.000000    53.130000     5.000000  63770.428010\n"
     ]
    }
   ],
   "source": [
    "print(file.describe())"
   ]
  },
  {
   "cell_type": "markdown",
   "id": "742fd0c9",
   "metadata": {},
   "source": [
    "## Vérifier les valeurs manquantes"
   ]
  },
  {
   "cell_type": "code",
   "execution_count": 6,
   "id": "c96e4672",
   "metadata": {},
   "outputs": [
    {
     "name": "stdout",
     "output_type": "stream",
     "text": [
      "age         0\n",
      "sex         0\n",
      "bmi         0\n",
      "children    0\n",
      "smoker      0\n",
      "region      0\n",
      "charges     0\n",
      "dtype: int64\n"
     ]
    }
   ],
   "source": [
    "print(file.isna().sum())"
   ]
  },
  {
   "cell_type": "markdown",
   "id": "54de6f70",
   "metadata": {},
   "source": [
    "## Visualiser la distribution de la variable cible (charges) "
   ]
  },
  {
   "cell_type": "code",
   "execution_count": 7,
   "id": "1432a9ac",
   "metadata": {},
   "outputs": [
    {
     "data": {
      "text/plain": [
       "<Axes: ylabel='Frequency'>"
      ]
     },
     "execution_count": 7,
     "metadata": {},
     "output_type": "execute_result"
    },
    {
     "data": {
      "image/png": "[encoded data removed]",
      "text/plain": [
       "<Figure size 640x480 with 1 Axes>"
      ]
     },
     "metadata": {},
     "output_type": "display_data"
    }
   ],
   "source": [
    "file[\"charges\"].plot.hist(bins=30)"
   ]
  },
  {
   "cell_type": "markdown",
   "id": "bc1b48b1",
   "metadata": {},
   "source": [
    "# 4. Prétraitement des données\n",
    "### Encodage des variables catégorielles\n",
    "Transformer les variables catégorielles en variables numériques avec `OrdinalEncoder`."
   ]
  },
  {
   "cell_type": "code",
   "execution_count": 8,
   "id": "7e2fac3b",
   "metadata": {},
   "outputs": [
    {
     "name": "stdout",
     "output_type": "stream",
     "text": [
      "      age  sex     bmi  children  smoker  region      charges\n",
      "0      19  0.0  27.900         0     1.0     3.0  16884.92400\n",
      "1      18  1.0  33.770         1     0.0     2.0   1725.55230\n",
      "2      28  1.0  33.000         3     0.0     2.0   4449.46200\n",
      "3      33  1.0  22.705         0     0.0     1.0  21984.47061\n",
      "4      32  1.0  28.880         0     0.0     1.0   3866.85520\n",
      "...   ...  ...     ...       ...     ...     ...          ...\n",
      "1333   50  1.0  30.970         3     0.0     1.0  10600.54830\n",
      "1334   18  0.0  31.920         0     0.0     0.0   2205.98080\n",
      "1335   18  0.0  36.850         0     0.0     2.0   1629.83350\n",
      "1336   21  0.0  25.800         0     0.0     3.0   2007.94500\n",
      "1337   61  0.0  29.070         0     1.0     1.0  29141.36030\n",
      "\n",
      "[1338 rows x 7 columns]\n"
     ]
    }
   ],
   "source": [
    "from sklearn.preprocessing import OrdinalEncoder\n",
    "\n",
    "enc = OrdinalEncoder()\n",
    "for i in [\"sex\", \"smoker\", \"region\"]:\n",
    "    file[i] = enc.fit_transform(file[[i]])\n",
    "\n",
    "print(file)"
   ]
  },
  {
   "cell_type": "markdown",
   "id": "ce79705b",
   "metadata": {},
   "source": [
    "### Normalisation des variables numériques\n",
    "Normaliser les variables numériques pour les mettre à l'échelle en utilisant `StandardScaler` ou `MinMaxScaler`"
   ]
  },
  {
   "cell_type": "code",
   "execution_count": 9,
   "id": "018dd297",
   "metadata": {},
   "outputs": [
    {
     "name": "stdout",
     "output_type": "stream",
     "text": [
      "           age  sex       bmi  children  smoker  region      charges\n",
      "0    -1.438764  0.0 -0.453320 -0.908614     1.0     3.0  16884.92400\n",
      "1    -1.509965  1.0  0.509621 -0.078767     0.0     2.0   1725.55230\n",
      "2    -0.797954  1.0  0.383307  1.580926     0.0     2.0   4449.46200\n",
      "3    -0.441948  1.0 -1.305531 -0.908614     0.0     1.0  21984.47061\n",
      "4    -0.513149  1.0 -0.292556 -0.908614     0.0     1.0   3866.85520\n",
      "...        ...  ...       ...       ...     ...     ...          ...\n",
      "1333  0.768473  1.0  0.050297  1.580926     0.0     1.0  10600.54830\n",
      "1334 -1.509965  0.0  0.206139 -0.908614     0.0     0.0   2205.98080\n",
      "1335 -1.509965  0.0  1.014878 -0.908614     0.0     2.0   1629.83350\n",
      "1336 -1.296362  0.0 -0.797813 -0.908614     0.0     3.0   2007.94500\n",
      "1337  1.551686  0.0 -0.261388 -0.908614     1.0     1.0  29141.36030\n",
      "\n",
      "[1338 rows x 7 columns]\n"
     ]
    }
   ],
   "source": [
    "from sklearn.preprocessing import StandardScaler\n",
    "\n",
    "sts = StandardScaler()\n",
    "for i in [\"age\", \"bmi\", \"children\"]:\n",
    "    file[i] = sts.fit_transform(file[[i]])\n",
    "\n",
    "print(file)"
   ]
  },
  {
   "cell_type": "markdown",
   "id": "fe2da3af",
   "metadata": {},
   "source": [
    "### Construction du dataset final\n",
    "Assembler les variables encodées et normalisées pour créer la matrice des caractéristiques `X` et la variable cible `y`."
   ]
  },
  {
   "cell_type": "code",
   "execution_count": 10,
   "id": "736df95e",
   "metadata": {},
   "outputs": [
    {
     "name": "stdout",
     "output_type": "stream",
     "text": [
      "           age  sex       bmi  children  smoker  region\n",
      "0    -1.438764  0.0 -0.453320 -0.908614     1.0     3.0\n",
      "1    -1.509965  1.0  0.509621 -0.078767     0.0     2.0\n",
      "2    -0.797954  1.0  0.383307  1.580926     0.0     2.0\n",
      "3    -0.441948  1.0 -1.305531 -0.908614     0.0     1.0\n",
      "4    -0.513149  1.0 -0.292556 -0.908614     0.0     1.0\n",
      "...        ...  ...       ...       ...     ...     ...\n",
      "1333  0.768473  1.0  0.050297  1.580926     0.0     1.0\n",
      "1334 -1.509965  0.0  0.206139 -0.908614     0.0     0.0\n",
      "1335 -1.509965  0.0  1.014878 -0.908614     0.0     2.0\n",
      "1336 -1.296362  0.0 -0.797813 -0.908614     0.0     3.0\n",
      "1337  1.551686  0.0 -0.261388 -0.908614     1.0     1.0\n",
      "\n",
      "[1338 rows x 6 columns]\n",
      "0       16884.92400\n",
      "1        1725.55230\n",
      "2        4449.46200\n",
      "3       21984.47061\n",
      "4        3866.85520\n",
      "           ...     \n",
      "1333    10600.54830\n",
      "1334     2205.98080\n",
      "1335     1629.83350\n",
      "1336     2007.94500\n",
      "1337    29141.36030\n",
      "Name: charges, Length: 1338, dtype: float64\n"
     ]
    }
   ],
   "source": [
    "X = file.iloc[:, :-1]\n",
    "y = file.iloc[:, -1]\n",
    "\n",
    "print(X)\n",
    "print(y)"
   ]
  },
  {
   "cell_type": "markdown",
   "id": "f1f38954",
   "metadata": {},
   "source": [
    "# 5. Division en ensembles d'entraînement et de test\n",
    "Séparer les données en un ensemble d'entraînement (80%) et un ensemble de test (20%)."
   ]
  },
  {
   "cell_type": "code",
   "execution_count": 11,
   "id": "ca2241f4",
   "metadata": {},
   "outputs": [],
   "source": [
    "from sklearn.model_selection import train_test_split\n",
    "\n",
    "X_train, X_test, y_train, y_test = train_test_split(\n",
    "    X, y, test_size=0.2, random_state=8964\n",
    ")"
   ]
  },
  {
   "cell_type": "markdown",
   "id": "c5d6077c",
   "metadata": {},
   "source": [
    "# 6. Implémentation d'un modèle de régression linéaire\n",
    "Créer et entraîner un modèle de régression linéaire."
   ]
  },
  {
   "cell_type": "code",
   "execution_count": 12,
   "id": "09e0e22e",
   "metadata": {},
   "outputs": [],
   "source": [
    "from sklearn.linear_model import LinearRegression\n",
    "\n",
    "linearRegression = LinearRegression()\n",
    "linearRegression.fit(X_train, y_train)\n",
    "y_predicted = linearRegression.predict(X_test)"
   ]
  },
  {
   "cell_type": "markdown",
   "id": "8cdd4cb3",
   "metadata": {},
   "source": [
    "# 7. Prédictions et évaluation du modèle linéaire\n",
    "Évaluer les performances du modèle avec l'erreur quadratique moyenne (MSE) et le coefficient de détermination (R²) sur le dataset d'entrainement et de test. Que pensez-vous de la qualité de ce modèle?"
   ]
  },
  {
   "cell_type": "code",
   "execution_count": 13,
   "id": "c22b43dc",
   "metadata": {},
   "outputs": [
    {
     "name": "stdout",
     "output_type": "stream",
     "text": [
      "47458806.29682825\n",
      "0.6804717203876025\n"
     ]
    }
   ],
   "source": [
    "from sklearn.metrics import mean_squared_error, r2_score\n",
    "\n",
    "print(mean_squared_error(y_test, y_predicted))\n",
    "print(r2_score(y_test, y_predicted))"
   ]
  },
  {
   "cell_type": "markdown",
   "id": "8b845b26",
   "metadata": {},
   "source": [
    "# 8. Implémentation d'un modèle KNN\n",
    "Créer, entraîner et évaluer un modèle KNN avec `k=5`."
   ]
  },
  {
   "cell_type": "code",
   "execution_count": 14,
   "id": "85d68ca1",
   "metadata": {},
   "outputs": [
    {
     "name": "stdout",
     "output_type": "stream",
     "text": [
      "41420653.36699556\n",
      "0.7211250947189948\n"
     ]
    }
   ],
   "source": [
    "from sklearn.neighbors import KNeighborsRegressor\n",
    "\n",
    "knn = KNeighborsRegressor(5)\n",
    "knn.fit(X_train, y_train)\n",
    "y_predicted = knn.predict(X_test)\n",
    "\n",
    "print(mean_squared_error(y_test, y_predicted))\n",
    "print(r2_score(y_test, y_predicted))"
   ]
  },
  {
   "cell_type": "markdown",
   "id": "5e7e5e5e",
   "metadata": {},
   "source": [
    "# 9. Étude de l'impact du nombre de voisins\n",
    "Tester l'effet du nombre de voisins sur la performance du modèle KNN.\n",
    "Vous devez produire un graphique qui affiche la MSE en ordonnées en fonction du nombre voisin (en abscisse). Les valeurs en entrainement et en test doivent être affichées"
   ]
  },
  {
   "cell_type": "code",
   "execution_count": 15,
   "id": "4c199bdd",
   "metadata": {},
   "outputs": [
    {
     "name": "stdout",
     "output_type": "stream",
     "text": [
      "    n     MSE_train      MSE_test  R2_train   R2_test\n",
      "0   1  0.000000e+00  5.563920e+07  1.000000  0.625395\n",
      "1   3  2.080909e+07  3.849455e+07  0.857472  0.740826\n",
      "2   5  2.817944e+07  4.142065e+07  0.806991  0.721125\n",
      "3  10  4.027715e+07  5.670497e+07  0.724130  0.618220\n",
      "4  20  5.510664e+07  6.659180e+07  0.622559  0.551654\n"
     ]
    },
    {
     "data": {
      "image/png": "[encoded data removed]",
      "text/plain": [
       "<Figure size 640x480 with 1 Axes>"
      ]
     },
     "metadata": {},
     "output_type": "display_data"
    }
   ],
   "source": [
    "import matplotlib.pyplot as plt\n",
    "\n",
    "plt.figure()\n",
    "\n",
    "df = pd.DataFrame(columns=[\"n\", \"MSE_train\", \"MSE_test\", \"R2_train\", \"R2_test\"]).astype(\n",
    "    {\n",
    "        \"n\": int,\n",
    "        \"MSE_train\": float,\n",
    "        \"MSE_test\": float,\n",
    "        \"R2_train\": float,\n",
    "        \"R2_test\": float,\n",
    "    }\n",
    ")\n",
    "\n",
    "for i in [1, 3, 5, 10, 20]:\n",
    "    knn = KNeighborsRegressor(i)\n",
    "    knn.fit(X_train, y_train)\n",
    "    y_train_predicted = knn.predict(X_train)\n",
    "    y_test_predicted = knn.predict(X_test)\n",
    "\n",
    "    mse_train = mean_squared_error(y_train, y_train_predicted)\n",
    "    mse_test = mean_squared_error(y_test, y_test_predicted)\n",
    "    r2_train = r2_score(y_train, y_train_predicted)\n",
    "    r2_test = r2_score(y_test, y_test_predicted)\n",
    "\n",
    "    df = pd.concat(\n",
    "        [\n",
    "            df,\n",
    "            pd.DataFrame(\n",
    "                [[i, mse_train, mse_test, r2_train, r2_test]], columns=df.columns\n",
    "            ),\n",
    "        ],\n",
    "        ignore_index=True,\n",
    "    )\n",
    "\n",
    "print(df)\n",
    "\n",
    "plt.plot(df[\"n\"], df[\"MSE_train\"], marker=\"x\", label=\"MSE_train\")\n",
    "plt.plot(df[\"n\"], df[\"MSE_test\"], marker=\"x\", label=\"MSE_test\")\n",
    "plt.legend()\n",
    "plt.show()"
   ]
  },
  {
   "cell_type": "markdown",
   "id": "d806c8c6",
   "metadata": {},
   "source": [
    "# 10. Analyse des résultats\n",
    "- Quelle est l'importance des différentes variables dans la prédiction ?\n",
    "- Quel est le meilleur choix pour le paramètre `k` ?"
   ]
  },
  {
   "cell_type": "markdown",
   "id": "002dc830",
   "metadata": {},
   "source": [
    "# 11. Pour les plus rapides ou à faire à la maison\n",
    "Améliorer l'analyse de paramètres précédentes pour répeter plusieurs fois les entraintements sur des splits train/test différents. Afficher sur le plot la moyenne et les écart-types obtenus sur 20 splits différents."
   ]
  },
  {
   "cell_type": "code",
   "execution_count": null,
   "id": "781d103a",
   "metadata": {},
   "outputs": [
    {
     "data": {
      "image/png": "[encoded data removed]",
      "text/plain": [
       "<Figure size 640x480 with 1 Axes>"
      ]
     },
     "metadata": {},
     "output_type": "display_data"
    }
   ],
   "source": [
    "plt.figure()\n",
    "\n",
    "df = pd.DataFrame(\n",
    "    columns=[\"Seed\", \"n\", \"MSE_train\", \"MSE_test\", \"R2_train\", \"R2_test\"]\n",
    ").astype(\n",
    "    {\n",
    "        \"Seed\": int,\n",
    "        \"n\": int,\n",
    "        \"MSE_train\": float,\n",
    "        \"MSE_test\": float,\n",
    "        \"R2_train\": float,\n",
    "        \"R2_test\": float,\n",
    "    }\n",
    ")\n",
    "\n",
    "\n",
    "\n",
    "for i in range(20):\n",
    "    seed = 8964 - 20 + i\n",
    "\n",
    "    X_train, X_test, y_train, y_test = train_test_split(\n",
    "        X, y, test_size=0.2, random_state=seed\n",
    "    )\n",
    "\n",
    "\n",
    "    for j in [1, 3, 5, 10, 20]:\n",
    "\n",
    "        knn = KNeighborsRegressor(j)\n",
    "\n",
    "        knn.fit(X_train, y_train)\n",
    "\n",
    "        y_train_predicted = knn.predict(X_train)\n",
    "        y_test_predicted = knn.predict(X_test)\n",
    "\n",
    "\n",
    "        mse_train = mean_squared_error(y_train, y_train_predicted)\n",
    "        mse_test = mean_squared_error(y_test, y_test_predicted)\n",
    "\n",
    "        r2_train = r2_score(y_train, y_train_predicted)\n",
    "        r2_test = r2_score(y_test, y_test_predicted)\n",
    "\n",
    "\n",
    "        df = pd.concat(\n",
    "            [\n",
    "                df,\n",
    "                pd.DataFrame(\n",
    "                    [[seed, j, mse_train, mse_test, r2_train, r2_test]],\n",
    "                    columns=df.columns,\n",
    "                ),\n",
    "\n",
    "            ],\n",
    "            ignore_index=True,\n",
    "        )\n",
    "\n",
    "\n",
    "\n",
    "df_mean = df.groupby([\"n\"]).mean()\n",
    "df_min = df.groupby([\"n\"]).min()\n",
    "df_max = df.groupby([\"n\"]).max()\n",
    "yerr_train = pd.concat([df_min[\"MSE_train\"], df_max[\"MSE_train\"]], axis=1)\n",
    "yerr_test = pd.concat([df_min[\"MSE_test\"], df_max[\"MSE_test\"]], axis=1)\n",
    "\n",
    "plt.errorbar(\n",
    "    df_mean.index, df_mean[\"MSE_train\"], yerr=yerr_test.T, marker=\"x\", label=\"MSE_train\"\n",
    ")\n",
    "plt.errorbar(\n",
    "    df_mean.index, df_mean[\"MSE_test\"], yerr=yerr_test.T, marker=\"x\", label=\"MSE_test\"\n",
    ")\n",
    "\n",
    "\n",
    "plt.legend()\n",
    "\n",
    "\n",
    "plt.show()"
   ]
  },
  {
   "cell_type": "markdown",
   "id": "7d128f04",
   "metadata": {},
   "source": [
    "# 12. Autres modèles\n",
    "Tester d'autres modèles de regression linéaire \"simples\" tels que des modèles polynomiaux, Lasso, ElasticNet ou Ridge"
   ]
  },
  {
   "cell_type": "code",
   "execution_count": null,
   "id": "f3582ac0",
   "metadata": {},
   "outputs": [],
   "source": []
  }
 ],
 "metadata": {
  "kernelspec": {
   "display_name": "base",
   "language": "python",
   "name": "python3"
  },
  "language_info": {
   "codemirror_mode": {
    "name": "ipython",
    "version": 3
   },
   "file_extension": ".py",
   "mimetype": "text/x-python",
   "name": "python",
   "nbconvert_exporter": "python",
   "pygments_lexer": "ipython3",
   "version": "3.11.9"
  }
 },
 "nbformat": 4,
 "nbformat_minor": 5
}
