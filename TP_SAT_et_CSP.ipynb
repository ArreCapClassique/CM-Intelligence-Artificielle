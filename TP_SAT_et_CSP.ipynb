{
 "cells": [
  {
   "cell_type": "markdown",
   "metadata": {
    "id": "5PY4UN_UO0E_"
   },
   "source": [
    "# **TP Intelligence Artificielle - SAT et CSP**"
   ]
  },
  {
   "cell_type": "markdown",
   "metadata": {
    "id": "bSWfQmBsPACo"
   },
   "source": [
    "# **Partie 0 : Visualisation**\n",
    "\n",
    "Voici une fonction pour visualiser les sudokus."
   ]
  },
  {
   "cell_type": "code",
   "execution_count": 1,
   "metadata": {
    "id": "pt05F60FPonG"
   },
   "outputs": [],
   "source": [
    "from IPython.display import HTML\n",
    "\n",
    "\n",
    "def visualize_sudoku(grid):\n",
    "\n",
    "    html = \"<table>\"\n",
    "\n",
    "    for i in range(9):\n",
    "\n",
    "        html += \"<tr>\"\n",
    "\n",
    "        for j in range(9):\n",
    "\n",
    "            value = grid[i][j]\n",
    "\n",
    "            cell_style = \"width: 30px; height: 30px; text-align: center; font-size: 20px; border: 1px solid black;\"\n",
    "\n",
    "            if i % 3 == 0 and i != 0:  # Horizontal lines\n",
    "\n",
    "                cell_style += \"border-top: 5px solid black;\"\n",
    "\n",
    "            if j % 3 == 0 and j != 0:  # Vertical lines\n",
    "\n",
    "                cell_style += \"border-left: 5px solid black;\"\n",
    "\n",
    "            if value == 0:\n",
    "\n",
    "                html += f\"<td style='background-color: white; {cell_style}'> </td>\"  # Case vide\n",
    "            else:\n",
    "\n",
    "                html += f\"<td style='background-color: rgb(226, 114, 91); {cell_style}'>{value}</td>\"\n",
    "\n",
    "        html += \"</tr>\"\n",
    "\n",
    "    html += \"</table>\"\n",
    "\n",
    "    display(HTML(html))"
   ]
  },
  {
   "cell_type": "markdown",
   "metadata": {
    "id": "0N5OlXXSHP7Z"
   },
   "source": [
    "### **Exercice 1**\n",
    "Écrivez un Sudoku sous forme d’une liste de listes (9 listes de 9 élements chacune où la valeur 0 represente une caise vide), puis utilisez la fonction visualize_sudoku pour l’afficher."
   ]
  },
  {
   "cell_type": "code",
   "execution_count": 2,
   "metadata": {
    "colab": {
     "base_uri": "https://localhost:8080/",
     "height": 361
    },
    "id": "opPESfFVHb4A",
    "outputId": "2c639049-0cd6-409d-c186-6486785b03a6"
   },
   "outputs": [
    {
     "data": {
      "text/html": [
       "<table><tr><td style='background-color: rgb(226, 114, 91); width: 30px; height: 30px; text-align: center; font-size: 20px; border: 1px solid black;'>5</td><td style='background-color: rgb(226, 114, 91); width: 30px; height: 30px; text-align: center; font-size: 20px; border: 1px solid black;'>3</td><td style='background-color: white; width: 30px; height: 30px; text-align: center; font-size: 20px; border: 1px solid black;'> </td><td style='background-color: white; width: 30px; height: 30px; text-align: center; font-size: 20px; border: 1px solid black;border-left: 5px solid black;'> </td><td style='background-color: rgb(226, 114, 91); width: 30px; height: 30px; text-align: center; font-size: 20px; border: 1px solid black;'>7</td><td style='background-color: white; width: 30px; height: 30px; text-align: center; font-size: 20px; border: 1px solid black;'> </td><td style='background-color: white; width: 30px; height: 30px; text-align: center; font-size: 20px; border: 1px solid black;border-left: 5px solid black;'> </td><td style='background-color: white; width: 30px; height: 30px; text-align: center; font-size: 20px; border: 1px solid black;'> </td><td style='background-color: white; width: 30px; height: 30px; text-align: center; font-size: 20px; border: 1px solid black;'> </td></tr><tr><td style='background-color: rgb(226, 114, 91); width: 30px; height: 30px; text-align: center; font-size: 20px; border: 1px solid black;'>6</td><td style='background-color: white; width: 30px; height: 30px; text-align: center; font-size: 20px; border: 1px solid black;'> </td><td style='background-color: white; width: 30px; height: 30px; text-align: center; font-size: 20px; border: 1px solid black;'> </td><td style='background-color: rgb(226, 114, 91); width: 30px; height: 30px; text-align: center; font-size: 20px; border: 1px solid black;border-left: 5px solid black;'>1</td><td style='background-color: rgb(226, 114, 91); width: 30px; height: 30px; text-align: center; font-size: 20px; border: 1px solid black;'>9</td><td style='background-color: rgb(226, 114, 91); width: 30px; height: 30px; text-align: center; font-size: 20px; border: 1px solid black;'>5</td><td style='background-color: white; width: 30px; height: 30px; text-align: center; font-size: 20px; border: 1px solid black;border-left: 5px solid black;'> </td><td style='background-color: white; width: 30px; height: 30px; text-align: center; font-size: 20px; border: 1px solid black;'> </td><td style='background-color: white; width: 30px; height: 30px; text-align: center; font-size: 20px; border: 1px solid black;'> </td></tr><tr><td style='background-color: white; width: 30px; height: 30px; text-align: center; font-size: 20px; border: 1px solid black;'> </td><td style='background-color: rgb(226, 114, 91); width: 30px; height: 30px; text-align: center; font-size: 20px; border: 1px solid black;'>9</td><td style='background-color: rgb(226, 114, 91); width: 30px; height: 30px; text-align: center; font-size: 20px; border: 1px solid black;'>8</td><td style='background-color: white; width: 30px; height: 30px; text-align: center; font-size: 20px; border: 1px solid black;border-left: 5px solid black;'> </td><td style='background-color: white; width: 30px; height: 30px; text-align: center; font-size: 20px; border: 1px solid black;'> </td><td style='background-color: white; width: 30px; height: 30px; text-align: center; font-size: 20px; border: 1px solid black;'> </td><td style='background-color: white; width: 30px; height: 30px; text-align: center; font-size: 20px; border: 1px solid black;border-left: 5px solid black;'> </td><td style='background-color: rgb(226, 114, 91); width: 30px; height: 30px; text-align: center; font-size: 20px; border: 1px solid black;'>6</td><td style='background-color: white; width: 30px; height: 30px; text-align: center; font-size: 20px; border: 1px solid black;'> </td></tr><tr><td style='background-color: rgb(226, 114, 91); width: 30px; height: 30px; text-align: center; font-size: 20px; border: 1px solid black;border-top: 5px solid black;'>8</td><td style='background-color: white; width: 30px; height: 30px; text-align: center; font-size: 20px; border: 1px solid black;border-top: 5px solid black;'> </td><td style='background-color: white; width: 30px; height: 30px; text-align: center; font-size: 20px; border: 1px solid black;border-top: 5px solid black;'> </td><td style='background-color: white; width: 30px; height: 30px; text-align: center; font-size: 20px; border: 1px solid black;border-top: 5px solid black;border-left: 5px solid black;'> </td><td style='background-color: rgb(226, 114, 91); width: 30px; height: 30px; text-align: center; font-size: 20px; border: 1px solid black;border-top: 5px solid black;'>6</td><td style='background-color: white; width: 30px; height: 30px; text-align: center; font-size: 20px; border: 1px solid black;border-top: 5px solid black;'> </td><td style='background-color: white; width: 30px; height: 30px; text-align: center; font-size: 20px; border: 1px solid black;border-top: 5px solid black;border-left: 5px solid black;'> </td><td style='background-color: white; width: 30px; height: 30px; text-align: center; font-size: 20px; border: 1px solid black;border-top: 5px solid black;'> </td><td style='background-color: rgb(226, 114, 91); width: 30px; height: 30px; text-align: center; font-size: 20px; border: 1px solid black;border-top: 5px solid black;'>3</td></tr><tr><td style='background-color: rgb(226, 114, 91); width: 30px; height: 30px; text-align: center; font-size: 20px; border: 1px solid black;'>4</td><td style='background-color: white; width: 30px; height: 30px; text-align: center; font-size: 20px; border: 1px solid black;'> </td><td style='background-color: white; width: 30px; height: 30px; text-align: center; font-size: 20px; border: 1px solid black;'> </td><td style='background-color: rgb(226, 114, 91); width: 30px; height: 30px; text-align: center; font-size: 20px; border: 1px solid black;border-left: 5px solid black;'>8</td><td style='background-color: white; width: 30px; height: 30px; text-align: center; font-size: 20px; border: 1px solid black;'> </td><td style='background-color: rgb(226, 114, 91); width: 30px; height: 30px; text-align: center; font-size: 20px; border: 1px solid black;'>3</td><td style='background-color: white; width: 30px; height: 30px; text-align: center; font-size: 20px; border: 1px solid black;border-left: 5px solid black;'> </td><td style='background-color: white; width: 30px; height: 30px; text-align: center; font-size: 20px; border: 1px solid black;'> </td><td style='background-color: rgb(226, 114, 91); width: 30px; height: 30px; text-align: center; font-size: 20px; border: 1px solid black;'>1</td></tr><tr><td style='background-color: rgb(226, 114, 91); width: 30px; height: 30px; text-align: center; font-size: 20px; border: 1px solid black;'>7</td><td style='background-color: white; width: 30px; height: 30px; text-align: center; font-size: 20px; border: 1px solid black;'> </td><td style='background-color: white; width: 30px; height: 30px; text-align: center; font-size: 20px; border: 1px solid black;'> </td><td style='background-color: white; width: 30px; height: 30px; text-align: center; font-size: 20px; border: 1px solid black;border-left: 5px solid black;'> </td><td style='background-color: rgb(226, 114, 91); width: 30px; height: 30px; text-align: center; font-size: 20px; border: 1px solid black;'>2</td><td style='background-color: white; width: 30px; height: 30px; text-align: center; font-size: 20px; border: 1px solid black;'> </td><td style='background-color: white; width: 30px; height: 30px; text-align: center; font-size: 20px; border: 1px solid black;border-left: 5px solid black;'> </td><td style='background-color: white; width: 30px; height: 30px; text-align: center; font-size: 20px; border: 1px solid black;'> </td><td style='background-color: rgb(226, 114, 91); width: 30px; height: 30px; text-align: center; font-size: 20px; border: 1px solid black;'>6</td></tr><tr><td style='background-color: white; width: 30px; height: 30px; text-align: center; font-size: 20px; border: 1px solid black;border-top: 5px solid black;'> </td><td style='background-color: rgb(226, 114, 91); width: 30px; height: 30px; text-align: center; font-size: 20px; border: 1px solid black;border-top: 5px solid black;'>6</td><td style='background-color: white; width: 30px; height: 30px; text-align: center; font-size: 20px; border: 1px solid black;border-top: 5px solid black;'> </td><td style='background-color: white; width: 30px; height: 30px; text-align: center; font-size: 20px; border: 1px solid black;border-top: 5px solid black;border-left: 5px solid black;'> </td><td style='background-color: white; width: 30px; height: 30px; text-align: center; font-size: 20px; border: 1px solid black;border-top: 5px solid black;'> </td><td style='background-color: white; width: 30px; height: 30px; text-align: center; font-size: 20px; border: 1px solid black;border-top: 5px solid black;'> </td><td style='background-color: rgb(226, 114, 91); width: 30px; height: 30px; text-align: center; font-size: 20px; border: 1px solid black;border-top: 5px solid black;border-left: 5px solid black;'>2</td><td style='background-color: rgb(226, 114, 91); width: 30px; height: 30px; text-align: center; font-size: 20px; border: 1px solid black;border-top: 5px solid black;'>8</td><td style='background-color: white; width: 30px; height: 30px; text-align: center; font-size: 20px; border: 1px solid black;border-top: 5px solid black;'> </td></tr><tr><td style='background-color: white; width: 30px; height: 30px; text-align: center; font-size: 20px; border: 1px solid black;'> </td><td style='background-color: white; width: 30px; height: 30px; text-align: center; font-size: 20px; border: 1px solid black;'> </td><td style='background-color: white; width: 30px; height: 30px; text-align: center; font-size: 20px; border: 1px solid black;'> </td><td style='background-color: rgb(226, 114, 91); width: 30px; height: 30px; text-align: center; font-size: 20px; border: 1px solid black;border-left: 5px solid black;'>4</td><td style='background-color: rgb(226, 114, 91); width: 30px; height: 30px; text-align: center; font-size: 20px; border: 1px solid black;'>1</td><td style='background-color: rgb(226, 114, 91); width: 30px; height: 30px; text-align: center; font-size: 20px; border: 1px solid black;'>9</td><td style='background-color: white; width: 30px; height: 30px; text-align: center; font-size: 20px; border: 1px solid black;border-left: 5px solid black;'> </td><td style='background-color: white; width: 30px; height: 30px; text-align: center; font-size: 20px; border: 1px solid black;'> </td><td style='background-color: rgb(226, 114, 91); width: 30px; height: 30px; text-align: center; font-size: 20px; border: 1px solid black;'>5</td></tr><tr><td style='background-color: white; width: 30px; height: 30px; text-align: center; font-size: 20px; border: 1px solid black;'> </td><td style='background-color: white; width: 30px; height: 30px; text-align: center; font-size: 20px; border: 1px solid black;'> </td><td style='background-color: white; width: 30px; height: 30px; text-align: center; font-size: 20px; border: 1px solid black;'> </td><td style='background-color: white; width: 30px; height: 30px; text-align: center; font-size: 20px; border: 1px solid black;border-left: 5px solid black;'> </td><td style='background-color: rgb(226, 114, 91); width: 30px; height: 30px; text-align: center; font-size: 20px; border: 1px solid black;'>8</td><td style='background-color: white; width: 30px; height: 30px; text-align: center; font-size: 20px; border: 1px solid black;'> </td><td style='background-color: white; width: 30px; height: 30px; text-align: center; font-size: 20px; border: 1px solid black;border-left: 5px solid black;'> </td><td style='background-color: rgb(226, 114, 91); width: 30px; height: 30px; text-align: center; font-size: 20px; border: 1px solid black;'>9</td><td style='background-color: rgb(226, 114, 91); width: 30px; height: 30px; text-align: center; font-size: 20px; border: 1px solid black;'>7</td></tr></table>"
      ],
      "text/plain": [
       "<IPython.core.display.HTML object>"
      ]
     },
     "metadata": {},
     "output_type": "display_data"
    }
   ],
   "source": [
    "grid = [\n",
    "    [5, 3, 0, 0, 7, 0, 0, 0, 0],\n",
    "    [6, 0, 0, 1, 9, 5, 0, 0, 0],\n",
    "    [0, 9, 8, 0, 0, 0, 0, 6, 0],\n",
    "    [8, 0, 0, 0, 6, 0, 0, 0, 3],\n",
    "    [4, 0, 0, 8, 0, 3, 0, 0, 1],\n",
    "    [7, 0, 0, 0, 2, 0, 0, 0, 6],\n",
    "    [0, 6, 0, 0, 0, 0, 2, 8, 0],\n",
    "    [0, 0, 0, 4, 1, 9, 0, 0, 5],\n",
    "    [0, 0, 0, 0, 8, 0, 0, 9, 7],\n",
    "]\n",
    "\n",
    "visualize_sudoku(grid)"
   ]
  },
  {
   "cell_type": "markdown",
   "metadata": {
    "id": "HginL-veRCvN"
   },
   "source": [
    "# **Partie 1 : Modélisation**"
   ]
  },
  {
   "cell_type": "markdown",
   "metadata": {
    "id": "S_5tobz9RIV7"
   },
   "source": [
    "Nous allons modéliser le Sudoku comme un problème SAT et CSP, puis utiliser les méthodes propres à chaque modélisation pour la résolution.\n",
    "Pour cela, nous utiliserons deux bibliothèques : **python-sat** et **python-constraint**.\n",
    "\n",
    "Exécutez le bloc de code suivant pour les installer.\n",
    "Pour les installer sur vos PC, il suffit d’exécuter les mêmes lignes (sans le '!' au début) dans une console de commandes (CMD).\n",
    "\n"
   ]
  },
  {
   "cell_type": "code",
   "execution_count": 3,
   "metadata": {
    "colab": {
     "base_uri": "https://localhost:8080/"
    },
    "id": "i2LySWFRUxNt",
    "outputId": "a3f7efbc-d559-48ba-e8dc-d4906b982eaa"
   },
   "outputs": [],
   "source": [
    "# Installation des libraries\n",
    "#!pip install python-sat\n",
    "#!pip install python-constraint"
   ]
  },
  {
   "cell_type": "markdown",
   "metadata": {
    "id": "jzQp1T6TtIFC"
   },
   "source": [
    "## **1.1 Modélisation SAT**"
   ]
  },
  {
   "cell_type": "markdown",
   "metadata": {
    "id": "kBo1k9DnEJJm"
   },
   "source": [
    "Pour modéliser le Sudoku comme un problème SAT, nous utiliserons la méthode CNF de la bibliothèque pysat.formula.\n",
    "CNF permet de définir les clauses logiques représentant les contraintes du problème.\n",
    "Pour les variables, nous utiliserons un dictionnaire."
   ]
  },
  {
   "cell_type": "code",
   "execution_count": 4,
   "metadata": {
    "id": "_dkgodwSEpS2"
   },
   "outputs": [],
   "source": [
    "from pysat.formula import CNF\n",
    "\n",
    "\n",
    "class Sudoku_SAT:\n",
    "    def __init__(self, grid):\n",
    "        self.grid = grid\n",
    "\n",
    "        self.cnf = CNF()  # Crée un objet CNF pour stocker les clauses\n",
    "        self.var_map = (\n",
    "            {}\n",
    "        )  # Dictionnaire pour mapper (ligne, colonne, valeur) à un ID de variable SAT\n",
    "\n",
    "        # 1. Créer les variables SAT\n",
    "        var_count = 1\n",
    "        for i in range(9):\n",
    "            for j in range(9):\n",
    "\n",
    "                for k in range(1, 10):\n",
    "                    self.var_map[(i, j, k)] = var_count\n",
    "                    var_count += 1\n",
    "\n",
    "        # 2. Créer les clauses SAT\n",
    "\n",
    "        # a. Chaque case doit contenir au moins une valeur\n",
    "        for i in range(9):\n",
    "            for j in range(9):\n",
    "\n",
    "                clause = [self.var_map[(i, j, k)] for k in range(1, 10)]\n",
    "                self.cnf.append(clause)\n",
    "\n",
    "        # b. Chaque case ne peut contenir qu'une seule valeur\n",
    "        for i in range(9):\n",
    "            for j in range(9):\n",
    "\n",
    "                for k1 in range(1, 10):\n",
    "                    for k2 in range(k1 + 1, 10):\n",
    "                        clause = [-self.var_map[(i, j, k1)], -self.var_map[(i, j, k2)]]\n",
    "                        self.cnf.append(clause)\n",
    "\n",
    "        # c. Chaque ligne doit contenir tous les chiffres de 1 à 9\n",
    "        for i in range(9):\n",
    "\n",
    "            for k in range(1, 10):\n",
    "                clause = [self.var_map[(i, j, k)] for j in range(9)]\n",
    "                self.cnf.append(clause)\n",
    "\n",
    "        # d. Chaque colonne doit contenir tous les chiffres de 1 à 9\n",
    "        for j in range(9):\n",
    "\n",
    "            for k in range(1, 10):\n",
    "                clause = [self.var_map[(i, j, k)] for i in range(9)]\n",
    "                self.cnf.append(clause)\n",
    "\n",
    "        # e. Chaque sous-grille 3x3 doit contenir tous les chiffres de 1 à 9\n",
    "        for subgrid_row in range(3):\n",
    "            for subgrid_col in range(3):\n",
    "\n",
    "                for k in range(1, 10):\n",
    "                    clause = [\n",
    "                        self.var_map[(subgrid_row * 3 + i, subgrid_col * 3 + j, k)]\n",
    "                        for i in range(3)\n",
    "                        for j in range(3)\n",
    "                    ]\n",
    "                    self.cnf.append(clause)\n",
    "\n",
    "        # f. Contraintes initiales de la grille\n",
    "        for i in range(9):\n",
    "            for j in range(9):\n",
    "\n",
    "                if self.grid[i][j] != 0:\n",
    "                    self.cnf.append([self.var_map[(i, j, self.grid[i][j])]])"
   ]
  },
  {
   "cell_type": "markdown",
   "metadata": {
    "id": "ZGNPBM-0JXQK"
   },
   "source": [
    "### **Exercice 2**\n",
    "Créez une fonction qui prend une grille de Sudoku en entrée et utilise le solveur Glucose3 de la bibliothèque pysat.solver pour résoudre le jeu (pensez à bien importer Glucosa3). Votre fonction doit :\n",
    "\n",
    "1. Créer un objet sudoku_sat pour modéliser le problème.\n",
    "2. Ajouter au solveur les contraintes du Sudoku sous forme de clauses logiques.\n",
    "3. Vérifier si le Sudoku est résoluble en utilisant le solveur SAT.\n",
    "4. Trouver une solution si le Sudoku est résoluble.\n",
    "5. Interpréter la solution retournée par le solveur pour remplir la grille :\n",
    "  * La solution sera une liste de taille 9 × 9 × 10, contenant des valeurs positives et négatives.\n",
    "  * Une valeur positive signifie que la variable (i, j, k) est True, ce qui indique que la case (i, j) doit contenir la valeur k."
   ]
  },
  {
   "cell_type": "code",
   "execution_count": 5,
   "metadata": {
    "id": "qNW2-nOgJdvJ"
   },
   "outputs": [
    {
     "data": {
      "text/plain": [
       "\"Le Sudoku n'est pas résoluble\""
      ]
     },
     "execution_count": 5,
     "metadata": {},
     "output_type": "execute_result"
    }
   ],
   "source": [
    "from pysat.solvers import Glucose3\n",
    "\n",
    "\n",
    "def solve_sudoku_sat(grid: list[list[int]]) -> list[list[int]]:\n",
    "    sudoku_sat = Sudoku_SAT(grid)\n",
    "    g3 = Glucose3()\n",
    "    g3.append_formula(sudoku_sat.cnf)\n",
    "    if g3.solve():\n",
    "        solution = g3.get_model()\n",
    "\n",
    "        grid = [[0 for _ in range(9)] for _ in range(9)]\n",
    "\n",
    "        var_count = 0\n",
    "        for i in range(9):\n",
    "            for j in range(9):\n",
    "                for k in range(1, 10):\n",
    "                    if solution[var_count] > 0:\n",
    "                        grid[i][j] = k\n",
    "                    var_count += 1\n",
    "        return grid\n",
    "    else:\n",
    "        return \"Le Sudoku n'est pas résoluble\"\n",
    "\n",
    "\n",
    "solve_sudoku_sat(grid)"
   ]
  },
  {
   "cell_type": "markdown",
   "metadata": {
    "id": "SPIWX-ICNIyX"
   },
   "source": [
    "### **Exercice 3**\n",
    "Utilisez votre fonction pour resoudre le sudoku ci-dessous:\n",
    "\n",
    "    [0, 0, 0, 0, 7, 0, 0, 0, 0]\n",
    "    [6, 0, 0, 1, 9, 5, 0, 0, 0]\n",
    "    [0, 9, 8, 0, 0, 0, 0, 6, 0]\n",
    "    [8, 0, 0, 0, 6, 0, 0, 0, 3]\n",
    "    [4, 0, 0, 8, 0, 3, 0, 0, 1]\n",
    "    [7, 0, 0, 0, 2, 0, 0, 0, 6]\n",
    "    [0, 6, 0, 0, 0, 0, 2, 8, 0]\n",
    "    [0, 0, 0, 4, 1, 9, 0, 0, 5]\n",
    "    [0, 0, 0, 0, 8, 0, 0, 7, 9]"
   ]
  },
  {
   "cell_type": "code",
   "execution_count": 6,
   "metadata": {
    "colab": {
     "base_uri": "https://localhost:8080/",
     "height": 705
    },
    "id": "5ivhDWzkNISd",
    "outputId": "992e9f2d-1b4f-4fcf-913c-a9d2b945e661"
   },
   "outputs": [
    {
     "data": {
      "text/html": [
       "<table><tr><td style='background-color: rgb(226, 114, 91); width: 30px; height: 30px; text-align: center; font-size: 20px; border: 1px solid black;'>5</td><td style='background-color: rgb(226, 114, 91); width: 30px; height: 30px; text-align: center; font-size: 20px; border: 1px solid black;'>3</td><td style='background-color: rgb(226, 114, 91); width: 30px; height: 30px; text-align: center; font-size: 20px; border: 1px solid black;'>4</td><td style='background-color: rgb(226, 114, 91); width: 30px; height: 30px; text-align: center; font-size: 20px; border: 1px solid black;border-left: 5px solid black;'>6</td><td style='background-color: rgb(226, 114, 91); width: 30px; height: 30px; text-align: center; font-size: 20px; border: 1px solid black;'>7</td><td style='background-color: rgb(226, 114, 91); width: 30px; height: 30px; text-align: center; font-size: 20px; border: 1px solid black;'>8</td><td style='background-color: rgb(226, 114, 91); width: 30px; height: 30px; text-align: center; font-size: 20px; border: 1px solid black;border-left: 5px solid black;'>9</td><td style='background-color: rgb(226, 114, 91); width: 30px; height: 30px; text-align: center; font-size: 20px; border: 1px solid black;'>1</td><td style='background-color: rgb(226, 114, 91); width: 30px; height: 30px; text-align: center; font-size: 20px; border: 1px solid black;'>2</td></tr><tr><td style='background-color: rgb(226, 114, 91); width: 30px; height: 30px; text-align: center; font-size: 20px; border: 1px solid black;'>6</td><td style='background-color: rgb(226, 114, 91); width: 30px; height: 30px; text-align: center; font-size: 20px; border: 1px solid black;'>7</td><td style='background-color: rgb(226, 114, 91); width: 30px; height: 30px; text-align: center; font-size: 20px; border: 1px solid black;'>2</td><td style='background-color: rgb(226, 114, 91); width: 30px; height: 30px; text-align: center; font-size: 20px; border: 1px solid black;border-left: 5px solid black;'>1</td><td style='background-color: rgb(226, 114, 91); width: 30px; height: 30px; text-align: center; font-size: 20px; border: 1px solid black;'>9</td><td style='background-color: rgb(226, 114, 91); width: 30px; height: 30px; text-align: center; font-size: 20px; border: 1px solid black;'>5</td><td style='background-color: rgb(226, 114, 91); width: 30px; height: 30px; text-align: center; font-size: 20px; border: 1px solid black;border-left: 5px solid black;'>3</td><td style='background-color: rgb(226, 114, 91); width: 30px; height: 30px; text-align: center; font-size: 20px; border: 1px solid black;'>4</td><td style='background-color: rgb(226, 114, 91); width: 30px; height: 30px; text-align: center; font-size: 20px; border: 1px solid black;'>8</td></tr><tr><td style='background-color: rgb(226, 114, 91); width: 30px; height: 30px; text-align: center; font-size: 20px; border: 1px solid black;'>1</td><td style='background-color: rgb(226, 114, 91); width: 30px; height: 30px; text-align: center; font-size: 20px; border: 1px solid black;'>9</td><td style='background-color: rgb(226, 114, 91); width: 30px; height: 30px; text-align: center; font-size: 20px; border: 1px solid black;'>8</td><td style='background-color: rgb(226, 114, 91); width: 30px; height: 30px; text-align: center; font-size: 20px; border: 1px solid black;border-left: 5px solid black;'>3</td><td style='background-color: rgb(226, 114, 91); width: 30px; height: 30px; text-align: center; font-size: 20px; border: 1px solid black;'>4</td><td style='background-color: rgb(226, 114, 91); width: 30px; height: 30px; text-align: center; font-size: 20px; border: 1px solid black;'>2</td><td style='background-color: rgb(226, 114, 91); width: 30px; height: 30px; text-align: center; font-size: 20px; border: 1px solid black;border-left: 5px solid black;'>5</td><td style='background-color: rgb(226, 114, 91); width: 30px; height: 30px; text-align: center; font-size: 20px; border: 1px solid black;'>6</td><td style='background-color: rgb(226, 114, 91); width: 30px; height: 30px; text-align: center; font-size: 20px; border: 1px solid black;'>7</td></tr><tr><td style='background-color: rgb(226, 114, 91); width: 30px; height: 30px; text-align: center; font-size: 20px; border: 1px solid black;border-top: 5px solid black;'>8</td><td style='background-color: rgb(226, 114, 91); width: 30px; height: 30px; text-align: center; font-size: 20px; border: 1px solid black;border-top: 5px solid black;'>5</td><td style='background-color: rgb(226, 114, 91); width: 30px; height: 30px; text-align: center; font-size: 20px; border: 1px solid black;border-top: 5px solid black;'>9</td><td style='background-color: rgb(226, 114, 91); width: 30px; height: 30px; text-align: center; font-size: 20px; border: 1px solid black;border-top: 5px solid black;border-left: 5px solid black;'>7</td><td style='background-color: rgb(226, 114, 91); width: 30px; height: 30px; text-align: center; font-size: 20px; border: 1px solid black;border-top: 5px solid black;'>6</td><td style='background-color: rgb(226, 114, 91); width: 30px; height: 30px; text-align: center; font-size: 20px; border: 1px solid black;border-top: 5px solid black;'>1</td><td style='background-color: rgb(226, 114, 91); width: 30px; height: 30px; text-align: center; font-size: 20px; border: 1px solid black;border-top: 5px solid black;border-left: 5px solid black;'>4</td><td style='background-color: rgb(226, 114, 91); width: 30px; height: 30px; text-align: center; font-size: 20px; border: 1px solid black;border-top: 5px solid black;'>2</td><td style='background-color: rgb(226, 114, 91); width: 30px; height: 30px; text-align: center; font-size: 20px; border: 1px solid black;border-top: 5px solid black;'>3</td></tr><tr><td style='background-color: rgb(226, 114, 91); width: 30px; height: 30px; text-align: center; font-size: 20px; border: 1px solid black;'>4</td><td style='background-color: rgb(226, 114, 91); width: 30px; height: 30px; text-align: center; font-size: 20px; border: 1px solid black;'>2</td><td style='background-color: rgb(226, 114, 91); width: 30px; height: 30px; text-align: center; font-size: 20px; border: 1px solid black;'>6</td><td style='background-color: rgb(226, 114, 91); width: 30px; height: 30px; text-align: center; font-size: 20px; border: 1px solid black;border-left: 5px solid black;'>8</td><td style='background-color: rgb(226, 114, 91); width: 30px; height: 30px; text-align: center; font-size: 20px; border: 1px solid black;'>5</td><td style='background-color: rgb(226, 114, 91); width: 30px; height: 30px; text-align: center; font-size: 20px; border: 1px solid black;'>3</td><td style='background-color: rgb(226, 114, 91); width: 30px; height: 30px; text-align: center; font-size: 20px; border: 1px solid black;border-left: 5px solid black;'>7</td><td style='background-color: rgb(226, 114, 91); width: 30px; height: 30px; text-align: center; font-size: 20px; border: 1px solid black;'>9</td><td style='background-color: rgb(226, 114, 91); width: 30px; height: 30px; text-align: center; font-size: 20px; border: 1px solid black;'>1</td></tr><tr><td style='background-color: rgb(226, 114, 91); width: 30px; height: 30px; text-align: center; font-size: 20px; border: 1px solid black;'>7</td><td style='background-color: rgb(226, 114, 91); width: 30px; height: 30px; text-align: center; font-size: 20px; border: 1px solid black;'>1</td><td style='background-color: rgb(226, 114, 91); width: 30px; height: 30px; text-align: center; font-size: 20px; border: 1px solid black;'>3</td><td style='background-color: rgb(226, 114, 91); width: 30px; height: 30px; text-align: center; font-size: 20px; border: 1px solid black;border-left: 5px solid black;'>9</td><td style='background-color: rgb(226, 114, 91); width: 30px; height: 30px; text-align: center; font-size: 20px; border: 1px solid black;'>2</td><td style='background-color: rgb(226, 114, 91); width: 30px; height: 30px; text-align: center; font-size: 20px; border: 1px solid black;'>4</td><td style='background-color: rgb(226, 114, 91); width: 30px; height: 30px; text-align: center; font-size: 20px; border: 1px solid black;border-left: 5px solid black;'>8</td><td style='background-color: rgb(226, 114, 91); width: 30px; height: 30px; text-align: center; font-size: 20px; border: 1px solid black;'>5</td><td style='background-color: rgb(226, 114, 91); width: 30px; height: 30px; text-align: center; font-size: 20px; border: 1px solid black;'>6</td></tr><tr><td style='background-color: rgb(226, 114, 91); width: 30px; height: 30px; text-align: center; font-size: 20px; border: 1px solid black;border-top: 5px solid black;'>9</td><td style='background-color: rgb(226, 114, 91); width: 30px; height: 30px; text-align: center; font-size: 20px; border: 1px solid black;border-top: 5px solid black;'>6</td><td style='background-color: rgb(226, 114, 91); width: 30px; height: 30px; text-align: center; font-size: 20px; border: 1px solid black;border-top: 5px solid black;'>1</td><td style='background-color: rgb(226, 114, 91); width: 30px; height: 30px; text-align: center; font-size: 20px; border: 1px solid black;border-top: 5px solid black;border-left: 5px solid black;'>5</td><td style='background-color: rgb(226, 114, 91); width: 30px; height: 30px; text-align: center; font-size: 20px; border: 1px solid black;border-top: 5px solid black;'>3</td><td style='background-color: rgb(226, 114, 91); width: 30px; height: 30px; text-align: center; font-size: 20px; border: 1px solid black;border-top: 5px solid black;'>7</td><td style='background-color: rgb(226, 114, 91); width: 30px; height: 30px; text-align: center; font-size: 20px; border: 1px solid black;border-top: 5px solid black;border-left: 5px solid black;'>2</td><td style='background-color: rgb(226, 114, 91); width: 30px; height: 30px; text-align: center; font-size: 20px; border: 1px solid black;border-top: 5px solid black;'>8</td><td style='background-color: rgb(226, 114, 91); width: 30px; height: 30px; text-align: center; font-size: 20px; border: 1px solid black;border-top: 5px solid black;'>4</td></tr><tr><td style='background-color: rgb(226, 114, 91); width: 30px; height: 30px; text-align: center; font-size: 20px; border: 1px solid black;'>2</td><td style='background-color: rgb(226, 114, 91); width: 30px; height: 30px; text-align: center; font-size: 20px; border: 1px solid black;'>8</td><td style='background-color: rgb(226, 114, 91); width: 30px; height: 30px; text-align: center; font-size: 20px; border: 1px solid black;'>7</td><td style='background-color: rgb(226, 114, 91); width: 30px; height: 30px; text-align: center; font-size: 20px; border: 1px solid black;border-left: 5px solid black;'>4</td><td style='background-color: rgb(226, 114, 91); width: 30px; height: 30px; text-align: center; font-size: 20px; border: 1px solid black;'>1</td><td style='background-color: rgb(226, 114, 91); width: 30px; height: 30px; text-align: center; font-size: 20px; border: 1px solid black;'>9</td><td style='background-color: rgb(226, 114, 91); width: 30px; height: 30px; text-align: center; font-size: 20px; border: 1px solid black;border-left: 5px solid black;'>6</td><td style='background-color: rgb(226, 114, 91); width: 30px; height: 30px; text-align: center; font-size: 20px; border: 1px solid black;'>3</td><td style='background-color: rgb(226, 114, 91); width: 30px; height: 30px; text-align: center; font-size: 20px; border: 1px solid black;'>5</td></tr><tr><td style='background-color: rgb(226, 114, 91); width: 30px; height: 30px; text-align: center; font-size: 20px; border: 1px solid black;'>3</td><td style='background-color: rgb(226, 114, 91); width: 30px; height: 30px; text-align: center; font-size: 20px; border: 1px solid black;'>4</td><td style='background-color: rgb(226, 114, 91); width: 30px; height: 30px; text-align: center; font-size: 20px; border: 1px solid black;'>5</td><td style='background-color: rgb(226, 114, 91); width: 30px; height: 30px; text-align: center; font-size: 20px; border: 1px solid black;border-left: 5px solid black;'>2</td><td style='background-color: rgb(226, 114, 91); width: 30px; height: 30px; text-align: center; font-size: 20px; border: 1px solid black;'>8</td><td style='background-color: rgb(226, 114, 91); width: 30px; height: 30px; text-align: center; font-size: 20px; border: 1px solid black;'>6</td><td style='background-color: rgb(226, 114, 91); width: 30px; height: 30px; text-align: center; font-size: 20px; border: 1px solid black;border-left: 5px solid black;'>1</td><td style='background-color: rgb(226, 114, 91); width: 30px; height: 30px; text-align: center; font-size: 20px; border: 1px solid black;'>7</td><td style='background-color: rgb(226, 114, 91); width: 30px; height: 30px; text-align: center; font-size: 20px; border: 1px solid black;'>9</td></tr></table>"
      ],
      "text/plain": [
       "<IPython.core.display.HTML object>"
      ]
     },
     "metadata": {},
     "output_type": "display_data"
    }
   ],
   "source": [
    "grid = [\n",
    "    [0, 0, 0, 0, 7, 0, 0, 0, 0],\n",
    "    [6, 0, 0, 1, 9, 5, 0, 0, 0],\n",
    "    [0, 9, 8, 0, 0, 0, 0, 6, 0],\n",
    "    [8, 0, 0, 0, 6, 0, 0, 0, 3],\n",
    "    [4, 0, 0, 8, 0, 3, 0, 0, 1],\n",
    "    [7, 0, 0, 0, 2, 0, 0, 0, 6],\n",
    "    [0, 6, 0, 0, 0, 0, 2, 8, 0],\n",
    "    [0, 0, 0, 4, 1, 9, 0, 0, 5],\n",
    "    [0, 0, 0, 0, 8, 0, 0, 7, 9],\n",
    "]\n",
    "\n",
    "visualize_sudoku(solve_sudoku_sat(grid))"
   ]
  },
  {
   "cell_type": "markdown",
   "metadata": {
    "id": "wX8ZiIHdELqr"
   },
   "source": [
    "## **1.2 Modélisation CSP**"
   ]
  },
  {
   "cell_type": "markdown",
   "metadata": {
    "id": "SYqboSqREPO1"
   },
   "source": [
    "### **Exercice 4**\n",
    "\n",
    "Créez une fonction solve_sudoku_csp qui prend une grille de Sudoku en entrée, la modélise comme un problème CSP et la résout. Votre fonction doit :\n",
    "1. Créer une instance du problème CSP\n",
    "  * Utilisez la classe Problem de la bibliothèque python-constraint pour représenter le Sudoku.\n",
    "2. Définir les variables du problème\n",
    "  * Utilisez la méthode addVariable pour ajouter les variables au problème, sachant que :\n",
    "    * Chaque case de la grille est une variable identifiée par un tuple (ligne, colonne).\n",
    "    * Le domaine de chaque variable correspond aux valeurs possibles (de 1 à 9).\n",
    "    * Si une case contient déjà un chiffre (non nul), son domaine est restreint à cette valeur unique.\n",
    "3. Définir les contraintes du Sudoku (les valeurs doivent être uniques dans chaque ligne, colonne et région 3×3). Pour cela, utilisez la méthode addConstraint avec AllDifferentConstraint() pour assurer ces contraintes.\n",
    "4. Résoudre le problème. Pour cela utilisez la méthode getSolutions() pour obtenir toutes les solutions possibles.\n",
    "5. Gérer les solutions\n",
    "  * Si des solutions existent, les stocker dans une liste.\n",
    "  * Sinon, indiquer qu’aucune solution n’a été trouvée."
   ]
  },
  {
   "cell_type": "code",
   "execution_count": 7,
   "metadata": {
    "id": "KBSKZAraD3i4"
   },
   "outputs": [],
   "source": [
    "from constraint import Problem, AllDifferentConstraint\n",
    "\n",
    "\n",
    "def solve_sudoku_csp(grid: list[list[int]]) -> list[list[int]]:\n",
    "    problem = Problem()\n",
    "\n",
    "    for i in range(9):\n",
    "        for j in range(9):\n",
    "            if grid[i][j] == 0:\n",
    "                problem.addVariable((i, j), range(1, 10))\n",
    "            else:\n",
    "                problem.addVariable((i, j), [grid[i][j]])\n",
    "\n",
    "    for i in range(9):\n",
    "        problem.addConstraint(\n",
    "            AllDifferentConstraint(), [(i, j) for j in range(9)]\n",
    "        )  # row\n",
    "        problem.addConstraint(\n",
    "            AllDifferentConstraint(), [(j, i) for j in range(9)]\n",
    "        )  # colomn\n",
    "\n",
    "    for i in [0, 3, 6]:\n",
    "        for j in [0, 3, 6]:\n",
    "            problem.addConstraint(\n",
    "                AllDifferentConstraint(),\n",
    "                [(a + i, b + j) for a in range(3) for b in range(3)],\n",
    "            )\n",
    "\n",
    "    solution = problem.getSolution()\n",
    "    for k, v in solution.items():\n",
    "        grid[k[0]][k[1]] = v\n",
    "\n",
    "    return grid"
   ]
  },
  {
   "cell_type": "markdown",
   "metadata": {
    "id": "KKdfoOmaHDh7"
   },
   "source": [
    "### **Exercice 5**\n",
    "Utilisez votre fonction pour resoudre le jeu suivant."
   ]
  },
  {
   "cell_type": "code",
   "execution_count": 8,
   "metadata": {
    "id": "NYTYq0edHKP6"
   },
   "outputs": [],
   "source": [
    "# Grille de Sudoku (0 représente une case vide)\n",
    "grid = [\n",
    "    [5, 3, 0, 0, 7, 0, 0, 0, 0],\n",
    "    [6, 0, 0, 1, 9, 5, 0, 0, 0],\n",
    "    [0, 9, 8, 0, 0, 0, 0, 6, 0],\n",
    "    [8, 0, 0, 0, 6, 0, 0, 0, 3],\n",
    "    [4, 0, 0, 8, 0, 3, 0, 0, 1],\n",
    "    [7, 0, 0, 0, 2, 0, 0, 0, 6],\n",
    "    [0, 6, 0, 0, 0, 0, 2, 8, 0],\n",
    "    [0, 0, 0, 4, 1, 9, 0, 0, 5],\n",
    "    [0, 0, 0, 0, 8, 0, 0, 7, 9],\n",
    "]"
   ]
  },
  {
   "cell_type": "code",
   "execution_count": 9,
   "metadata": {
    "colab": {
     "base_uri": "https://localhost:8080/",
     "height": 705
    },
    "id": "Ug0Ig31UPTk1",
    "outputId": "bc2d7177-a913-43a5-ae6b-0aa59142367f"
   },
   "outputs": [
    {
     "data": {
      "text/html": [
       "<table><tr><td style='background-color: rgb(226, 114, 91); width: 30px; height: 30px; text-align: center; font-size: 20px; border: 1px solid black;'>5</td><td style='background-color: rgb(226, 114, 91); width: 30px; height: 30px; text-align: center; font-size: 20px; border: 1px solid black;'>3</td><td style='background-color: rgb(226, 114, 91); width: 30px; height: 30px; text-align: center; font-size: 20px; border: 1px solid black;'>4</td><td style='background-color: rgb(226, 114, 91); width: 30px; height: 30px; text-align: center; font-size: 20px; border: 1px solid black;border-left: 5px solid black;'>6</td><td style='background-color: rgb(226, 114, 91); width: 30px; height: 30px; text-align: center; font-size: 20px; border: 1px solid black;'>7</td><td style='background-color: rgb(226, 114, 91); width: 30px; height: 30px; text-align: center; font-size: 20px; border: 1px solid black;'>8</td><td style='background-color: rgb(226, 114, 91); width: 30px; height: 30px; text-align: center; font-size: 20px; border: 1px solid black;border-left: 5px solid black;'>9</td><td style='background-color: rgb(226, 114, 91); width: 30px; height: 30px; text-align: center; font-size: 20px; border: 1px solid black;'>1</td><td style='background-color: rgb(226, 114, 91); width: 30px; height: 30px; text-align: center; font-size: 20px; border: 1px solid black;'>2</td></tr><tr><td style='background-color: rgb(226, 114, 91); width: 30px; height: 30px; text-align: center; font-size: 20px; border: 1px solid black;'>6</td><td style='background-color: rgb(226, 114, 91); width: 30px; height: 30px; text-align: center; font-size: 20px; border: 1px solid black;'>7</td><td style='background-color: rgb(226, 114, 91); width: 30px; height: 30px; text-align: center; font-size: 20px; border: 1px solid black;'>2</td><td style='background-color: rgb(226, 114, 91); width: 30px; height: 30px; text-align: center; font-size: 20px; border: 1px solid black;border-left: 5px solid black;'>1</td><td style='background-color: rgb(226, 114, 91); width: 30px; height: 30px; text-align: center; font-size: 20px; border: 1px solid black;'>9</td><td style='background-color: rgb(226, 114, 91); width: 30px; height: 30px; text-align: center; font-size: 20px; border: 1px solid black;'>5</td><td style='background-color: rgb(226, 114, 91); width: 30px; height: 30px; text-align: center; font-size: 20px; border: 1px solid black;border-left: 5px solid black;'>3</td><td style='background-color: rgb(226, 114, 91); width: 30px; height: 30px; text-align: center; font-size: 20px; border: 1px solid black;'>4</td><td style='background-color: rgb(226, 114, 91); width: 30px; height: 30px; text-align: center; font-size: 20px; border: 1px solid black;'>8</td></tr><tr><td style='background-color: rgb(226, 114, 91); width: 30px; height: 30px; text-align: center; font-size: 20px; border: 1px solid black;'>1</td><td style='background-color: rgb(226, 114, 91); width: 30px; height: 30px; text-align: center; font-size: 20px; border: 1px solid black;'>9</td><td style='background-color: rgb(226, 114, 91); width: 30px; height: 30px; text-align: center; font-size: 20px; border: 1px solid black;'>8</td><td style='background-color: rgb(226, 114, 91); width: 30px; height: 30px; text-align: center; font-size: 20px; border: 1px solid black;border-left: 5px solid black;'>3</td><td style='background-color: rgb(226, 114, 91); width: 30px; height: 30px; text-align: center; font-size: 20px; border: 1px solid black;'>4</td><td style='background-color: rgb(226, 114, 91); width: 30px; height: 30px; text-align: center; font-size: 20px; border: 1px solid black;'>2</td><td style='background-color: rgb(226, 114, 91); width: 30px; height: 30px; text-align: center; font-size: 20px; border: 1px solid black;border-left: 5px solid black;'>5</td><td style='background-color: rgb(226, 114, 91); width: 30px; height: 30px; text-align: center; font-size: 20px; border: 1px solid black;'>6</td><td style='background-color: rgb(226, 114, 91); width: 30px; height: 30px; text-align: center; font-size: 20px; border: 1px solid black;'>7</td></tr><tr><td style='background-color: rgb(226, 114, 91); width: 30px; height: 30px; text-align: center; font-size: 20px; border: 1px solid black;border-top: 5px solid black;'>8</td><td style='background-color: rgb(226, 114, 91); width: 30px; height: 30px; text-align: center; font-size: 20px; border: 1px solid black;border-top: 5px solid black;'>5</td><td style='background-color: rgb(226, 114, 91); width: 30px; height: 30px; text-align: center; font-size: 20px; border: 1px solid black;border-top: 5px solid black;'>9</td><td style='background-color: rgb(226, 114, 91); width: 30px; height: 30px; text-align: center; font-size: 20px; border: 1px solid black;border-top: 5px solid black;border-left: 5px solid black;'>7</td><td style='background-color: rgb(226, 114, 91); width: 30px; height: 30px; text-align: center; font-size: 20px; border: 1px solid black;border-top: 5px solid black;'>6</td><td style='background-color: rgb(226, 114, 91); width: 30px; height: 30px; text-align: center; font-size: 20px; border: 1px solid black;border-top: 5px solid black;'>1</td><td style='background-color: rgb(226, 114, 91); width: 30px; height: 30px; text-align: center; font-size: 20px; border: 1px solid black;border-top: 5px solid black;border-left: 5px solid black;'>4</td><td style='background-color: rgb(226, 114, 91); width: 30px; height: 30px; text-align: center; font-size: 20px; border: 1px solid black;border-top: 5px solid black;'>2</td><td style='background-color: rgb(226, 114, 91); width: 30px; height: 30px; text-align: center; font-size: 20px; border: 1px solid black;border-top: 5px solid black;'>3</td></tr><tr><td style='background-color: rgb(226, 114, 91); width: 30px; height: 30px; text-align: center; font-size: 20px; border: 1px solid black;'>4</td><td style='background-color: rgb(226, 114, 91); width: 30px; height: 30px; text-align: center; font-size: 20px; border: 1px solid black;'>2</td><td style='background-color: rgb(226, 114, 91); width: 30px; height: 30px; text-align: center; font-size: 20px; border: 1px solid black;'>6</td><td style='background-color: rgb(226, 114, 91); width: 30px; height: 30px; text-align: center; font-size: 20px; border: 1px solid black;border-left: 5px solid black;'>8</td><td style='background-color: rgb(226, 114, 91); width: 30px; height: 30px; text-align: center; font-size: 20px; border: 1px solid black;'>5</td><td style='background-color: rgb(226, 114, 91); width: 30px; height: 30px; text-align: center; font-size: 20px; border: 1px solid black;'>3</td><td style='background-color: rgb(226, 114, 91); width: 30px; height: 30px; text-align: center; font-size: 20px; border: 1px solid black;border-left: 5px solid black;'>7</td><td style='background-color: rgb(226, 114, 91); width: 30px; height: 30px; text-align: center; font-size: 20px; border: 1px solid black;'>9</td><td style='background-color: rgb(226, 114, 91); width: 30px; height: 30px; text-align: center; font-size: 20px; border: 1px solid black;'>1</td></tr><tr><td style='background-color: rgb(226, 114, 91); width: 30px; height: 30px; text-align: center; font-size: 20px; border: 1px solid black;'>7</td><td style='background-color: rgb(226, 114, 91); width: 30px; height: 30px; text-align: center; font-size: 20px; border: 1px solid black;'>1</td><td style='background-color: rgb(226, 114, 91); width: 30px; height: 30px; text-align: center; font-size: 20px; border: 1px solid black;'>3</td><td style='background-color: rgb(226, 114, 91); width: 30px; height: 30px; text-align: center; font-size: 20px; border: 1px solid black;border-left: 5px solid black;'>9</td><td style='background-color: rgb(226, 114, 91); width: 30px; height: 30px; text-align: center; font-size: 20px; border: 1px solid black;'>2</td><td style='background-color: rgb(226, 114, 91); width: 30px; height: 30px; text-align: center; font-size: 20px; border: 1px solid black;'>4</td><td style='background-color: rgb(226, 114, 91); width: 30px; height: 30px; text-align: center; font-size: 20px; border: 1px solid black;border-left: 5px solid black;'>8</td><td style='background-color: rgb(226, 114, 91); width: 30px; height: 30px; text-align: center; font-size: 20px; border: 1px solid black;'>5</td><td style='background-color: rgb(226, 114, 91); width: 30px; height: 30px; text-align: center; font-size: 20px; border: 1px solid black;'>6</td></tr><tr><td style='background-color: rgb(226, 114, 91); width: 30px; height: 30px; text-align: center; font-size: 20px; border: 1px solid black;border-top: 5px solid black;'>9</td><td style='background-color: rgb(226, 114, 91); width: 30px; height: 30px; text-align: center; font-size: 20px; border: 1px solid black;border-top: 5px solid black;'>6</td><td style='background-color: rgb(226, 114, 91); width: 30px; height: 30px; text-align: center; font-size: 20px; border: 1px solid black;border-top: 5px solid black;'>1</td><td style='background-color: rgb(226, 114, 91); width: 30px; height: 30px; text-align: center; font-size: 20px; border: 1px solid black;border-top: 5px solid black;border-left: 5px solid black;'>5</td><td style='background-color: rgb(226, 114, 91); width: 30px; height: 30px; text-align: center; font-size: 20px; border: 1px solid black;border-top: 5px solid black;'>3</td><td style='background-color: rgb(226, 114, 91); width: 30px; height: 30px; text-align: center; font-size: 20px; border: 1px solid black;border-top: 5px solid black;'>7</td><td style='background-color: rgb(226, 114, 91); width: 30px; height: 30px; text-align: center; font-size: 20px; border: 1px solid black;border-top: 5px solid black;border-left: 5px solid black;'>2</td><td style='background-color: rgb(226, 114, 91); width: 30px; height: 30px; text-align: center; font-size: 20px; border: 1px solid black;border-top: 5px solid black;'>8</td><td style='background-color: rgb(226, 114, 91); width: 30px; height: 30px; text-align: center; font-size: 20px; border: 1px solid black;border-top: 5px solid black;'>4</td></tr><tr><td style='background-color: rgb(226, 114, 91); width: 30px; height: 30px; text-align: center; font-size: 20px; border: 1px solid black;'>2</td><td style='background-color: rgb(226, 114, 91); width: 30px; height: 30px; text-align: center; font-size: 20px; border: 1px solid black;'>8</td><td style='background-color: rgb(226, 114, 91); width: 30px; height: 30px; text-align: center; font-size: 20px; border: 1px solid black;'>7</td><td style='background-color: rgb(226, 114, 91); width: 30px; height: 30px; text-align: center; font-size: 20px; border: 1px solid black;border-left: 5px solid black;'>4</td><td style='background-color: rgb(226, 114, 91); width: 30px; height: 30px; text-align: center; font-size: 20px; border: 1px solid black;'>1</td><td style='background-color: rgb(226, 114, 91); width: 30px; height: 30px; text-align: center; font-size: 20px; border: 1px solid black;'>9</td><td style='background-color: rgb(226, 114, 91); width: 30px; height: 30px; text-align: center; font-size: 20px; border: 1px solid black;border-left: 5px solid black;'>6</td><td style='background-color: rgb(226, 114, 91); width: 30px; height: 30px; text-align: center; font-size: 20px; border: 1px solid black;'>3</td><td style='background-color: rgb(226, 114, 91); width: 30px; height: 30px; text-align: center; font-size: 20px; border: 1px solid black;'>5</td></tr><tr><td style='background-color: rgb(226, 114, 91); width: 30px; height: 30px; text-align: center; font-size: 20px; border: 1px solid black;'>3</td><td style='background-color: rgb(226, 114, 91); width: 30px; height: 30px; text-align: center; font-size: 20px; border: 1px solid black;'>4</td><td style='background-color: rgb(226, 114, 91); width: 30px; height: 30px; text-align: center; font-size: 20px; border: 1px solid black;'>5</td><td style='background-color: rgb(226, 114, 91); width: 30px; height: 30px; text-align: center; font-size: 20px; border: 1px solid black;border-left: 5px solid black;'>2</td><td style='background-color: rgb(226, 114, 91); width: 30px; height: 30px; text-align: center; font-size: 20px; border: 1px solid black;'>8</td><td style='background-color: rgb(226, 114, 91); width: 30px; height: 30px; text-align: center; font-size: 20px; border: 1px solid black;'>6</td><td style='background-color: rgb(226, 114, 91); width: 30px; height: 30px; text-align: center; font-size: 20px; border: 1px solid black;border-left: 5px solid black;'>1</td><td style='background-color: rgb(226, 114, 91); width: 30px; height: 30px; text-align: center; font-size: 20px; border: 1px solid black;'>7</td><td style='background-color: rgb(226, 114, 91); width: 30px; height: 30px; text-align: center; font-size: 20px; border: 1px solid black;'>9</td></tr></table>"
      ],
      "text/plain": [
       "<IPython.core.display.HTML object>"
      ]
     },
     "metadata": {},
     "output_type": "display_data"
    }
   ],
   "source": [
    "visualize_sudoku(solve_sudoku_csp(grid))"
   ]
  },
  {
   "cell_type": "markdown",
   "metadata": {
    "id": "1GiLuVoiESLN"
   },
   "source": [
    "# **Partie 2 : Comparaison CSP vs SAT**"
   ]
  },
  {
   "cell_type": "markdown",
   "metadata": {
    "id": "fn9-LoE7PapU"
   },
   "source": [
    "Nous allons comparer les deux solveurs sur 10 sudokus differents. Pour cela, voici 10 grilles."
   ]
  },
  {
   "cell_type": "code",
   "execution_count": 10,
   "metadata": {
    "id": "-5CLXNs7QDlG"
   },
   "outputs": [],
   "source": [
    "grid1 = [\n",
    "    [5, 3, 0, 0, 7, 0, 0, 0, 0],\n",
    "    [6, 0, 0, 1, 9, 5, 0, 0, 0],\n",
    "    [0, 9, 8, 0, 0, 0, 0, 6, 0],\n",
    "    [8, 0, 0, 0, 6, 0, 0, 0, 3],\n",
    "    [4, 0, 0, 8, 0, 3, 0, 0, 1],\n",
    "    [7, 0, 0, 0, 2, 0, 0, 0, 6],\n",
    "    [0, 6, 0, 0, 0, 0, 2, 8, 0],\n",
    "    [0, 0, 0, 4, 1, 9, 0, 0, 5],\n",
    "    [0, 0, 0, 0, 8, 0, 0, 7, 9],\n",
    "]"
   ]
  },
  {
   "cell_type": "code",
   "execution_count": 11,
   "metadata": {
    "id": "TkVn-xNSQEKC"
   },
   "outputs": [],
   "source": [
    "grid2 = [\n",
    "    [0, 0, 3, 0, 2, 0, 6, 0, 0],\n",
    "    [9, 0, 0, 3, 0, 5, 0, 0, 1],\n",
    "    [0, 0, 1, 8, 0, 6, 4, 0, 0],\n",
    "    [0, 0, 8, 1, 0, 2, 9, 0, 0],\n",
    "    [7, 0, 0, 0, 0, 0, 0, 0, 8],\n",
    "    [0, 0, 6, 7, 0, 8, 2, 0, 0],\n",
    "    [0, 0, 2, 6, 0, 9, 5, 0, 0],\n",
    "    [8, 0, 0, 2, 0, 3, 0, 0, 9],\n",
    "    [0, 0, 5, 0, 1, 0, 3, 0, 0],\n",
    "]"
   ]
  },
  {
   "cell_type": "code",
   "execution_count": 12,
   "metadata": {
    "id": "XgBm1CoaQEkZ"
   },
   "outputs": [],
   "source": [
    "grid3 = [\n",
    "    [0, 2, 0, 6, 0, 8, 0, 0, 0],\n",
    "    [5, 8, 0, 0, 0, 9, 7, 0, 0],\n",
    "    [0, 0, 0, 0, 4, 0, 0, 0, 0],\n",
    "    [3, 7, 0, 0, 0, 0, 5, 0, 0],\n",
    "    [6, 0, 0, 0, 0, 0, 0, 0, 4],\n",
    "    [0, 0, 8, 0, 0, 0, 0, 1, 3],\n",
    "    [0, 0, 0, 0, 2, 0, 0, 0, 0],\n",
    "    [0, 0, 9, 8, 0, 0, 0, 3, 6],\n",
    "    [0, 0, 0, 3, 0, 6, 0, 9, 0],\n",
    "]"
   ]
  },
  {
   "cell_type": "code",
   "execution_count": 13,
   "metadata": {
    "id": "GDegv9oOQE-o"
   },
   "outputs": [],
   "source": [
    "grid4 = [\n",
    "    [0, 0, 5, 3, 0, 0, 0, 0, 0],\n",
    "    [8, 0, 0, 0, 0, 0, 0, 2, 0],\n",
    "    [0, 7, 0, 0, 1, 0, 5, 0, 0],\n",
    "    [4, 0, 0, 0, 0, 5, 3, 0, 0],\n",
    "    [0, 1, 0, 0, 7, 0, 0, 0, 6],\n",
    "    [0, 0, 3, 2, 0, 0, 0, 8, 0],\n",
    "    [0, 6, 0, 5, 0, 0, 0, 0, 9],\n",
    "    [0, 0, 4, 0, 0, 0, 0, 3, 0],\n",
    "    [0, 0, 0, 0, 0, 9, 7, 0, 0],\n",
    "]"
   ]
  },
  {
   "cell_type": "code",
   "execution_count": 14,
   "metadata": {
    "id": "dcpkXhBYQFbY"
   },
   "outputs": [],
   "source": [
    "grid5 = [\n",
    "    [8, 0, 0, 0, 0, 0, 0, 0, 0],\n",
    "    [0, 0, 3, 6, 0, 0, 0, 0, 0],\n",
    "    [0, 7, 0, 0, 9, 0, 2, 0, 0],\n",
    "    [0, 5, 0, 0, 0, 7, 0, 0, 0],\n",
    "    [0, 0, 0, 0, 4, 5, 7, 0, 0],\n",
    "    [0, 0, 0, 1, 0, 0, 0, 3, 0],\n",
    "    [0, 0, 1, 0, 0, 0, 0, 6, 8],\n",
    "    [0, 0, 8, 5, 0, 0, 0, 1, 0],\n",
    "    [0, 9, 0, 0, 0, 0, 4, 0, 0],\n",
    "]"
   ]
  },
  {
   "cell_type": "code",
   "execution_count": 15,
   "metadata": {
    "id": "akg5LpODQGJd"
   },
   "outputs": [],
   "source": [
    "grid6 = [\n",
    "    [0, 0, 0, 6, 0, 0, 4, 0, 0],\n",
    "    [7, 0, 0, 0, 0, 3, 6, 0, 0],\n",
    "    [0, 0, 0, 0, 9, 1, 0, 8, 0],\n",
    "    [0, 0, 0, 0, 0, 0, 0, 0, 0],\n",
    "    [0, 5, 0, 1, 8, 0, 0, 0, 3],\n",
    "    [0, 0, 0, 3, 0, 6, 0, 4, 5],\n",
    "    [0, 4, 0, 2, 0, 0, 0, 6, 0],\n",
    "    [9, 0, 3, 0, 0, 0, 0, 0, 0],\n",
    "    [0, 2, 0, 0, 0, 0, 1, 0, 0],\n",
    "]"
   ]
  },
  {
   "cell_type": "code",
   "execution_count": 16,
   "metadata": {
    "id": "oXdewypsQHN4"
   },
   "outputs": [],
   "source": [
    "grid7 = [\n",
    "    [0, 2, 0, 0, 0, 0, 0, 0, 0],\n",
    "    [0, 0, 0, 6, 0, 0, 0, 0, 3],\n",
    "    [0, 7, 4, 0, 8, 0, 0, 0, 0],\n",
    "    [0, 0, 0, 0, 0, 3, 0, 0, 2],\n",
    "    [0, 8, 0, 0, 4, 0, 0, 1, 0],\n",
    "    [6, 0, 0, 5, 0, 0, 0, 0, 0],\n",
    "    [0, 0, 0, 0, 1, 0, 7, 8, 0],\n",
    "    [5, 0, 0, 0, 0, 9, 0, 0, 0],\n",
    "    [0, 0, 0, 0, 0, 0, 0, 4, 0],\n",
    "]"
   ]
  },
  {
   "cell_type": "code",
   "execution_count": 17,
   "metadata": {
    "id": "e6ul940YQHpA"
   },
   "outputs": [],
   "source": [
    "grid8 = [\n",
    "    [0, 0, 0, 0, 0, 0, 0, 0, 0],\n",
    "    [0, 0, 0, 0, 0, 3, 0, 8, 5],\n",
    "    [0, 0, 1, 0, 2, 0, 0, 0, 0],\n",
    "    [0, 0, 0, 5, 0, 7, 0, 0, 0],\n",
    "    [0, 0, 4, 0, 0, 0, 1, 0, 0],\n",
    "    [0, 9, 0, 0, 0, 0, 0, 0, 0],\n",
    "    [5, 0, 0, 0, 0, 0, 0, 7, 3],\n",
    "    [0, 0, 2, 0, 1, 0, 0, 0, 0],\n",
    "    [0, 0, 0, 0, 4, 0, 0, 0, 9],\n",
    "]"
   ]
  },
  {
   "cell_type": "code",
   "execution_count": 18,
   "metadata": {
    "id": "hxw9qns3QIDD"
   },
   "outputs": [],
   "source": [
    "grid9 = [\n",
    "    [0, 0, 0, 2, 6, 0, 7, 0, 1],\n",
    "    [6, 8, 0, 0, 7, 0, 0, 9, 0],\n",
    "    [1, 9, 0, 0, 0, 4, 5, 0, 0],\n",
    "    [8, 2, 0, 1, 0, 0, 0, 4, 0],\n",
    "    [0, 0, 4, 6, 0, 2, 9, 0, 0],\n",
    "    [0, 5, 0, 0, 0, 3, 0, 2, 8],\n",
    "    [0, 0, 9, 3, 0, 0, 0, 7, 4],\n",
    "    [0, 4, 0, 0, 5, 0, 0, 3, 6],\n",
    "    [7, 0, 3, 0, 1, 8, 0, 0, 0],\n",
    "]"
   ]
  },
  {
   "cell_type": "code",
   "execution_count": 19,
   "metadata": {
    "id": "u4unj3I2QIXH"
   },
   "outputs": [],
   "source": [
    "grid10 = [\n",
    "    [0, 2, 0, 0, 0, 0, 0, 0, 0],\n",
    "    [0, 0, 0, 6, 0, 0, 0, 0, 3],\n",
    "    [0, 7, 4, 0, 8, 0, 0, 0, 0],\n",
    "    [0, 0, 0, 0, 0, 3, 0, 0, 2],\n",
    "    [0, 8, 0, 0, 4, 0, 0, 1, 0],\n",
    "    [6, 0, 0, 5, 0, 0, 0, 0, 0],\n",
    "    [0, 0, 0, 0, 1, 0, 7, 8, 0],\n",
    "    [5, 0, 0, 0, 0, 9, 0, 0, 0],\n",
    "    [0, 0, 0, 0, 0, 0, 0, 4, 0],\n",
    "]"
   ]
  },
  {
   "cell_type": "markdown",
   "metadata": {
    "id": "DPRqZ5VtQUDQ"
   },
   "source": [
    "### **Exercice 6**\n",
    "\n",
    "Créez une fonction comparer_solveurs qui prend comme entrée une liste de grilles, résout tous les jeux avec les deux solveurs, enregistre le temps d'exécution à chaque fois, et retourne les résultats sous forme de DataFrame.\n",
    "\n",
    "Utilisez cette fonction pour résoudre tous les jeux et affichez ensuite les résultats."
   ]
  },
  {
   "cell_type": "code",
   "execution_count": 20,
   "metadata": {
    "colab": {
     "base_uri": "https://localhost:8080/"
    },
    "id": "o3WyAsbvPUCJ",
    "outputId": "0edc02d5-e8d7-454e-836a-36f430bc18da"
   },
   "outputs": [],
   "source": [
    "import pandas as pd\n",
    "from time import time\n",
    "\n",
    "\n",
    "def comparer_solveurs(list_grids: list[list[list[int]]]) -> pd.DataFrame:\n",
    "    df_results = pd.DataFrame(columns=[\"ID\", \"SAT\", \"CSP\"]).astype(\n",
    "        {\"ID\": str, \"SAT\": float, \"CSP\": float}\n",
    "    )\n",
    "\n",
    "    for i, grid in enumerate(list_grids):\n",
    "        start = time()\n",
    "        solve_sudoku_sat(grid)\n",
    "        middle = time()\n",
    "        solve_sudoku_csp(grid)\n",
    "        end = time()\n",
    "        df_results = pd.concat(\n",
    "            [\n",
    "                df_results,\n",
    "                pd.DataFrame(\n",
    "                    [[i + 1, middle - start, end - middle]],\n",
    "                    columns=df_results.columns,\n",
    "                ),\n",
    "            ],\n",
    "            ignore_index=True,\n",
    "        )\n",
    "\n",
    "    df_results[\"SAT\"] = df_results[\"SAT\"].round(2)\n",
    "    df_results[\"CSP\"] = df_results[\"CSP\"].round(2)\n",
    "\n",
    "    return df_results"
   ]
  },
  {
   "cell_type": "code",
   "execution_count": 21,
   "metadata": {
    "colab": {
     "base_uri": "https://localhost:8080/"
    },
    "id": "Q-B0Dt8sSOG5",
    "outputId": "d8155d08-02ef-403c-9a7a-f31e1344c3cd"
   },
   "outputs": [
    {
     "name": "stdout",
     "output_type": "stream",
     "text": [
      "+----+------+------+\n",
      "| ID |  SAT |  CSP |\n",
      "+----+------+------+\n",
      "|  1 | 0.02 | 0.01 |\n",
      "|  2 | 0.02 | 0.01 |\n",
      "|  3 | 0.1  | 0.25 |\n",
      "|  4 | 0.29 | 0.09 |\n",
      "|  5 | 0.38 | 0.53 |\n",
      "|  6 | 0.28 | 0.2  |\n",
      "|  7 | 0.28 | 0.5  |\n",
      "|  8 | 0.34 | 4.14 |\n",
      "|  9 | 0.01 | 0.0  |\n",
      "| 10 | 0.32 | 0.53 |\n",
      "+----+------+------+\n"
     ]
    }
   ],
   "source": [
    "from tabulate import tabulate\n",
    "\n",
    "df_results = comparer_solveurs(\n",
    "    [grid1, grid2, grid3, grid4, grid5, grid6, grid7, grid8, grid9, grid10]\n",
    ")\n",
    "\n",
    "print(\n",
    "    tabulate(\n",
    "        df_results,\n",
    "        headers=\"keys\",\n",
    "        tablefmt=\"pretty\",\n",
    "        showindex=False,\n",
    "        colalign=(\"right\", \"decimal\", \"decimal\"),\n",
    "    )\n",
    ")"
   ]
  }
 ],
 "metadata": {
  "colab": {
   "provenance": []
  },
  "kernelspec": {
   "display_name": "base",
   "language": "python",
   "name": "python3"
  },
  "language_info": {
   "codemirror_mode": {
    "name": "ipython",
    "version": 3
   },
   "file_extension": ".py",
   "mimetype": "text/x-python",
   "name": "python",
   "nbconvert_exporter": "python",
   "pygments_lexer": "ipython3",
   "version": "3.11.9"
  }
 },
 "nbformat": 4,
 "nbformat_minor": 4
}
